{
 "cells": [
  {
   "cell_type": "code",
   "execution_count": 3,
   "metadata": {},
   "outputs": [],
   "source": [
    "import pymc3 as pm\n",
    "import pandas as pd\n",
    "import numpy as np\n",
    "from numpy import log, exp\n",
    "import matplotlib.pyplot as plt\n",
    "import seaborn as sns\n",
    "import theano\n",
    "import theano.tensor as tt\n",
    "from sklearn.preprocessing import StandardScaler\n",
    "import glob\n",
    "import os\n",
    "sns.set_style(\"white\")"
   ]
  },
  {
   "cell_type": "markdown",
   "metadata": {},
   "source": [
    "## Fitting a mixed effect model Poisson GLM with ADVI mini_batch\n",
    "\n",
    "1. Regularize using GLM Lasso\n",
    "    - The first step in the analysis is, for each study, to fit a regularizing GLM LASSO to help identify the primary factors driving pig movement.  Particularly, we want to see how foraging resources affect pig movement as main effects and as interactive effects with other available resources.\n",
    "\n",
    "2. Fit a mixed effect model using ADVI\n",
    "    - Once we've identified a simple minimalish model, we want to more robustly extract the population-level effects by fitting a mixed effects model in which we allow random effects of individuals. We will use Mini-batch ADVI to fit these models, hopefully without losing too much realism in the predictions.  This will be a good way to include error in the predictions\n",
    "    "
   ]
  },
  {
   "cell_type": "code",
   "execution_count": 4,
   "metadata": {},
   "outputs": [],
   "source": [
    "gfiles = glob.glob(\"/Users/mqwilber/Repos/rsf_swine/results/glmdata_by_study/*.csv\")\n",
    "pigattrib = pd.read_csv(\"/Users/mqwilber/Repos/rsf_swine/data/formatted/pig_attributes.csv\")[['pigID', \"sex\"]]"
   ]
  },
  {
   "cell_type": "code",
   "execution_count": null,
   "metadata": {},
   "outputs": [
    {
     "name": "stdout",
     "output_type": "stream",
     "text": [
      "Working on txcamp\n"
     ]
    },
    {
     "name": "stderr",
     "output_type": "stream",
     "text": [
      "Average Loss = 2.9152e+06: 100%|██████████| 40000/40000 [17:42<00:00, 37.64it/s]\n",
      "Finished [100%]: Average Loss = 2.9148e+06\n"
     ]
    },
    {
     "name": "stdout",
     "output_type": "stream",
     "text": [
      "Working on florida\n"
     ]
    }
   ],
   "source": [
    "# Fit each data set using ADVI and look at the best fit predictors\n",
    "#pm_fits = {}\n",
    "batches = 500\n",
    "advi_samps = 40000\n",
    "\n",
    "for f in gfiles:\n",
    "    \n",
    "    study = os.path.basename(f).split(\".\")[0]\n",
    "    \n",
    "    if (study == \"florida\") or (study == \"txcamp\"):\n",
    "        \n",
    "        print(\"Working on {0}\".format(study))\n",
    "        tdat = pd.read_csv(f)\n",
    "        tdat = pd.merge(tdat, pigattrib, on=\"pigID\")\n",
    "\n",
    "        include_vars = [\"crw\",\n",
    "                        \"canopycover_loc\", \"canopycover_grad\",\n",
    "                        \"water_loc\", \"water_grad\",\n",
    "                        \"ndvi_loc\", \"ndvi_grad\",\n",
    "                        \"masting_loc\",\"masting_grad\",\n",
    "                        \"crop_loc\", \"crop_grad\",\n",
    "                        \"precipitation_loc\", \"temperature_loc\"]\n",
    "\n",
    "        # Response variable and offset\n",
    "        z = tdat.z.values\n",
    "        tau = tdat.tau.values\n",
    "\n",
    "        # Build and standardize the design matrix\n",
    "        X = pd.DataFrame(StandardScaler().fit_transform(X=tdat[include_vars].values))\n",
    "        X.columns = include_vars\n",
    "        \n",
    "        # Make a sex effect\n",
    "        malevect = (pd.get_dummies(tdat.sex)['M'] == 0).astype(np.int)\n",
    "        #X.loc[:, \"male\"] = malevect\n",
    "        Xfull = X\n",
    "\n",
    "        # Build the random effects matrix\n",
    "        pigIDs = pd.Series(tdat.pigID)\n",
    "        unqpigIDs = pd.Series(pigIDs.unique()).reset_index()\n",
    "        unqpigIDs.columns = ['pigID_index', 'pigID']\n",
    "        pigIDs_num = pd.merge(pd.DataFrame(pigIDs), unqpigIDs, on=\"pigID\").pigID_index\n",
    "        Z = pd.get_dummies(tdat.pigID)\n",
    "\n",
    "        # Individual-level random effects \n",
    "        Zcover_loc = Xfull.canopycover_loc[:,np.newaxis] * Z\n",
    "        Zcover_grad = Xfull.canopycover_grad[:,np.newaxis] * Z\n",
    "        Zcrop_loc = Xfull.crop_loc[:,np.newaxis] * Z\n",
    "        Zcrop_grad = Xfull.crop_grad[:,np.newaxis] * Z\n",
    "        Zmasting_loc = Xfull.masting_loc[:,np.newaxis] * Z\n",
    "        Zmasting_grad = Xfull.masting_grad[:,np.newaxis] * Z\n",
    "        Zndvi_loc = Xfull.ndvi_loc[:, np.newaxis] * Z\n",
    "        Zndvi_grad = Xfull.ndvi_grad[:, np.newaxis] * Z\n",
    "        Zwater_loc = Xfull.water_loc[:, np.newaxis] * Z\n",
    "        Zwater_grad = Xfull.water_grad[:, np.newaxis] * Z\n",
    "\n",
    "        # Direcitonal persistence\n",
    "        crw = Xfull[[\"crw\"]].values[:, 0]\n",
    "        # male = Xfull[['male']].values[:, 0]\n",
    "\n",
    "        # Mini-batch variables\n",
    "        batch = batches\n",
    "        crw_t = pm.Minibatch(crw, batch)\n",
    "        # male_t = pm.Minibatch(male, batch)\n",
    "        z_t = pm.Minibatch(z, batch)\n",
    "        tau_t = pm.Minibatch(tau, batch)\n",
    "        Z_t1 = pm.Minibatch(Zcover_loc.values, batch)\n",
    "        Z_t2 = pm.Minibatch(Zcover_grad.values, batch)\n",
    "        Z_t3 = pm.Minibatch(Zcrop_loc.values, batch)\n",
    "        Z_t4 = pm.Minibatch(Zcrop_grad.values, batch)\n",
    "        Z_t5 = pm.Minibatch(Zmasting_loc.values, batch)\n",
    "        Z_t6 = pm.Minibatch(Zmasting_grad.values, batch)\n",
    "        Z_t7 = pm.Minibatch(Zndvi_loc.values, batch)\n",
    "        Z_t8 = pm.Minibatch(Zndvi_grad.values, batch)\n",
    "        Z_t9 = pm.Minibatch(Zwater_loc.values, batch)\n",
    "        Z_t10 = pm.Minibatch(Zwater_grad.values, batch)\n",
    "\n",
    "        tmodel = pm.Model()\n",
    "        numparams = X.shape[1]\n",
    "        numpigs = Z.shape[1]\n",
    "        popsd = 2\n",
    "\n",
    "        with tmodel:\n",
    "\n",
    "            # Fixed effects\n",
    "            alpha = pm.Normal('alpha', mu=0, sd=5, shape=1)\n",
    "            beta_crw = pm.Normal('beta_crw', mu=0, sd=3)\n",
    "            # beta_male = pm.Normal('beta_male', mu=0, sd=3)\n",
    "            \n",
    "            # Population-level effects\n",
    "            coverloc_pop = pm.Normal('coverloc_pop', mu=0, sd=popsd)\n",
    "            covergrad_pop = pm.Normal('covergrad_pop', mu=0, sd=popsd)\n",
    "            croploc_pop = pm.Normal('croploc_pop', mu=0, sd=popsd)\n",
    "            cropgrad_pop = pm.Normal('cropgrad_pop', mu=0, sd=popsd)\n",
    "            mastingloc_pop = pm.Normal('mastingloc_pop', mu=0, sd=popsd)\n",
    "            mastinggrad_pop = pm.Normal('mastinggrad_pop', mu=0, sd=popsd)\n",
    "            ndviloc_pop = pm.Normal('ndviloc_pop', mu=0, sd=popsd)\n",
    "            ndvigrad_pop = pm.Normal('ndvigrad_pop', mu=0, sd=popsd)\n",
    "            waterloc_pop = pm.Normal('waterloc_pop', mu=0, sd=popsd)\n",
    "            watergrad_pop = pm.Normal('watergrad_pop', mu=0, sd=popsd)\n",
    "            \n",
    "            # From Buderman et al. 2018\n",
    "            logphi = pm.Normal('logphi', mu=0, sd=0.04, shape=9)\n",
    "            \n",
    "            # Random effect variances\n",
    "            sigma_coverloc = pm.HalfNormal('sigma_cover', sd=1)\n",
    "            sigma_covergrad = tt.exp(logphi[0]) * sigma_coverloc\n",
    "            sigma_croploc = tt.exp(logphi[1]) * sigma_coverloc\n",
    "            sigma_cropgrad = tt.exp(logphi[2]) * sigma_coverloc\n",
    "            sigma_mastingloc = tt.exp(logphi[3]) * sigma_coverloc\n",
    "            sigma_mastinggrad = tt.exp(logphi[4]) * sigma_coverloc\n",
    "            sigma_ndviloc = tt.exp(logphi[5]) * sigma_coverloc\n",
    "            sigma_ndvigrad = tt.exp(logphi[6]) * sigma_coverloc\n",
    "            sigma_waterloc = tt.exp(logphi[7]) * sigma_coverloc\n",
    "            sigma_watergrad = tt.exp(logphi[8]) * sigma_coverloc\n",
    "            \n",
    "            # Random effects\n",
    "            beta_coverloc = pm.Normal('beta_coverloc', mu=coverloc_pop, sd=sigma_coverloc, shape=numpigs)\n",
    "            beta_covergrad = pm.Normal('beta_covergrad', mu=covergrad_pop, sd=sigma_covergrad, shape=numpigs)\n",
    "            beta_croploc = pm.Normal('beta_croploc', mu=croploc_pop, sd=sigma_croploc, shape=numpigs)\n",
    "            beta_cropgrad = pm.Normal('beta_cropgrad', mu=cropgrad_pop, sd=sigma_cropgrad, shape=numpigs)\n",
    "            beta_mastingloc = pm.Normal('beta_mastingloc', mu=mastingloc_pop, sd=sigma_mastingloc, shape=numpigs)\n",
    "            beta_mastinggrad = pm.Normal('beta_mastinggrad', mu=mastinggrad_pop, sd=sigma_mastinggrad, shape=numpigs)\n",
    "            beta_ndviloc = pm.Normal('beta_ndviloc', mu=ndviloc_pop, sd=sigma_ndviloc, shape=numpigs)\n",
    "            beta_ndvigrad = pm.Normal('beta_ndvigrad', mu=ndvigrad_pop, sd=sigma_ndvigrad, shape=numpigs)\n",
    "            beta_waterloc = pm.Normal('beta_waterloc', mu=waterloc_pop, sd=sigma_waterloc, shape=numpigs)\n",
    "            beta_watergrad = pm.Normal('beta_watergrad', mu=watergrad_pop, sd=sigma_watergrad, shape=numpigs)\n",
    "\n",
    "            # Expected value of outcome\n",
    "            loglam = tt.log(tau_t) + alpha + beta_crw*crw_t \\\n",
    "                     + theano.dot(Z_t1, beta_coverloc) + theano.dot(Z_t2, beta_covergrad) \\\n",
    "                     + theano.dot(Z_t3, beta_croploc) + theano.dot(Z_t4, beta_cropgrad) \\\n",
    "                     + theano.dot(Z_t5, beta_mastingloc) + theano.dot(Z_t6, beta_mastinggrad) \\\n",
    "                    + theano.dot(Z_t7, beta_ndviloc) + theano.dot(Z_t8, beta_ndvigrad) \\\n",
    "                    + theano.dot(Z_t9, beta_waterloc) + theano.dot(Z_t10, beta_watergrad)\n",
    "\n",
    "            # Likelihood (sampling distribution) of observations\n",
    "            Y_obs = pm.Poisson('Y_obs', mu=tt.exp(loglam), observed=z_t, total_size=Xfull.shape[0])\n",
    "\n",
    "            # Fit ADVI\n",
    "            pfit = pm.fit(n=advi_samps, method=\"advi\", \n",
    "                        callbacks=[pm.callbacks.CheckParametersConvergence(tolerance=1e-4)])\n",
    "\n",
    "        pm_fits[study] = pfit "
   ]
  },
  {
   "cell_type": "code",
   "execution_count": 112,
   "metadata": {},
   "outputs": [
    {
     "data": {
      "text/plain": [
       "[<matplotlib.lines.Line2D at 0x1cad172358>]"
      ]
     },
     "execution_count": 112,
     "metadata": {},
     "output_type": "execute_result"
    },
    {
     "data": {
      "image/png": "[encoded data removed]",
      "text/plain": [
       "<matplotlib.figure.Figure at 0x1c40e9d240>"
      ]
     },
     "metadata": {},
     "output_type": "display_data"
    }
   ],
   "source": [
    "plt.plot(np.log(pm_fits['mo_kurt0'].hist))"
   ]
  },
  {
   "cell_type": "markdown",
   "metadata": {},
   "source": [
    "**Thought**: The random effect component might actually be quite useful when looking at the population-level effect.  True, each pig is sampled over a different period of time which is inevitably going to affect resource selection as this varies temporally.  However, if we are interested in a general population-level effect, then including the random effect will inevitably weight pigs with a longer sampling period more and allow these effect to have a greater influence on the population-level mean than the pigs that are sampled less. So while we are not accounting for time explicitly, and random effect approach does implictly allow for variation that is inherent in different times. \n",
    "\n",
    "---\n",
    "\n",
    "### Plot the population-level effects\n",
    "\n",
    "Compare the population-level effects across populations"
   ]
  },
  {
   "cell_type": "code",
   "execution_count": 116,
   "metadata": {},
   "outputs": [],
   "source": [
    "# Draw from the ADVI posterior\n",
    "varnames = ['beta_crw', 'coverloc_pop', 'covergrad_pop', 'croploc_pop', 'cropgrad_pop', 'mastingloc_pop',\n",
    " 'mastinggrad_pop','ndviloc_pop', 'ndvigrad_pop', 'waterloc_pop', 'watergrad_pop']\n",
    "\n",
    "ttraces = {study: pm_fits[study].sample(draws=5000) for study in pm_fits.keys()}"
   ]
  },
  {
   "cell_type": "code",
   "execution_count": 131,
   "metadata": {},
   "outputs": [
    {
     "data": {
      "image/png": "[encoded data removed]",
      "text/plain": [
       "<matplotlib.figure.Figure at 0x1c58063198>"
      ]
     },
     "metadata": {},
     "output_type": "display_data"
    }
   ],
   "source": [
    "# Plot effects across populations\n",
    "fig, axes = plt.subplots(4, 3, figsize=(12, 12), sharey=True)\n",
    "axes = axes.ravel()\n",
    "\n",
    "yvals = np.linspace(0, 1, num=len(pm_fits.keys()))\n",
    "for i, vname in enumerate(varnames):\n",
    "    \n",
    "    tcoefs = pd.DataFrame(index=pm_fits.keys(), columns=[\"lower\", \"median\", \"upper\"])\n",
    "    \n",
    "    for study in pm_fits.keys():\n",
    "        \n",
    "        quants = pm.quantiles(ttraces[study])\n",
    "        tcoefs.loc[study, :] = (quants[vname][2.5], quants[vname][50], quants[vname][97.5])\n",
    "        \n",
    "    axes[i].errorbar(tcoefs['median'], yvals, \n",
    "                     xerr=np.array([tcoefs['median'] - tcoefs.lower, tcoefs.upper - tcoefs['median']]), \n",
    "                     linestyle=\"\", marker=\"o\")\n",
    "    axes[i].set_ylim(-0.1, 1.1)\n",
    "    axes[i].vlines(0, *axes[i].get_ylim(), linestyle=\"--\", alpha=0.8)\n",
    "    axes[i].set_yticks(yvals)\n",
    "    axes[i].set_yticklabels(tcoefs.index, size=11)\n",
    "    axes[i].set_title(vname) \n",
    "\n",
    "axes[11].tick_params(labelbottom=\"off\")\n",
    "axes[11].spines['bottom'].set_visible(False)\n",
    "axes[11].spines['top'].set_visible(False)\n",
    "axes[11].spines['right'].set_visible(False)\n",
    "axes[11].spines['left'].set_visible(False)"
   ]
  },
  {
   "cell_type": "markdown",
   "metadata": {},
   "source": [
    "Many of the effects are consistent with the lasso analysis, though this approach seems more prone to yield extreme results (e.g. the effect of NDVI loc in `tx_tyler_w2`) or `croploc` in `cali2`.  The main takeaways are consistent though:\n",
    "\n",
    "1. Direction persistence in movement is consistent across populations\n",
    "2. Generally, pigs more slower in cells with higher canopy cover\n",
    "3. Generally, pigs more toward cells with higher canopy cover\n",
    "4. The effects of anthropogenic and natural forage on pig movement varies pretty significantly across populations.  Why? \n",
    "    - Other than Tejon where pigs tend to spend more time in the masting layer, pigs generally tend to spend less time in areas with higher masting tree density in other studies.\n",
    "    - Not sure why that is"
   ]
  },
  {
   "cell_type": "markdown",
   "metadata": {},
   "source": [
    "## Model 2: Seasonal effects of forage\n",
    "\n",
    "This model explores the effects of season (i.e. an interaction between precipitation and temperature) on the the selection for foraging resources.  A population-level GAM showed that there is some strong seasonality in these effects (though not a whole lot of consistency).  Now we want to understand whether the population-level mean of foraging varies with temperature and precipitation. "
   ]
  },
  {
   "cell_type": "code",
   "execution_count": null,
   "metadata": {},
   "outputs": [],
   "source": []
  },
  {
   "cell_type": "code",
   "execution_count": 177,
   "metadata": {},
   "outputs": [],
   "source": [
    "pm.plots.forestplot?"
   ]
  },
  {
   "cell_type": "code",
   "execution_count": 98,
   "metadata": {},
   "outputs": [
    {
     "data": {
      "text/plain": [
       "LOO_r(LOO=105661.08576787316, LOO_se=438.7410735924591, p_LOO=50953.22568059581)"
      ]
     },
     "execution_count": 98,
     "metadata": {},
     "output_type": "execute_result"
    }
   ],
   "source": [
    "loofit"
   ]
  },
  {
   "cell_type": "markdown",
   "metadata": {},
   "source": [
    "Build a PyMC3 model using MiniBatch."
   ]
  },
  {
   "cell_type": "code",
   "execution_count": null,
   "metadata": {},
   "outputs": [],
   "source": []
  },
  {
   "cell_type": "code",
   "execution_count": 19,
   "metadata": {},
   "outputs": [],
   "source": [
    "import theano\n",
    "import theano.tensor\n",
    "\n",
    "Xfull = Xtej\n",
    "poisson_model = pm.Model()\n",
    "numparams = Xfull.shape[1]\n",
    "\n",
    "batch = 1000\n",
    "X_t = pm.Minibatch(Xfull.values, batch)\n",
    "z_t = pm.Minibatch(z, batch)\n",
    "tau_t = pm.Minibatch(tau, batch)\n",
    "Z_t = pm.Minibatch(Z.values, batch)\n",
    "\n",
    "numrand = 1\n",
    "\n",
    "# pigID_t = pm.Minibatch(pigIDs_num, batch)\n",
    "numpigs = len(np.unique(tejondat.pigID))\n",
    "\n",
    "with poisson_model:\n",
    "\n",
    "    # Hyper priors for unknown model parameters\n",
    "    alpha = pm.Normal('alpha', mu=0, sd=5)\n",
    "    beta = pm.Normal('beta', mu=0, sd=3, shape=numparams)\n",
    "    sigma_a = pm.HalfCauchy(\"sigma_a\", beta=2)\n",
    "    \n",
    "    phi_vect = pm.Lognormal('phi_vect', mu=0, sd=0.04, shape=numrand - 1)\n",
    "    sigma_vect = sigma_a * phi_vect\n",
    "    sigma_full = T.concatenate([T.stack(sigma_a), sigma_vect])\n",
    "    \n",
    "    # Random effect of individual pig on general movement\n",
    "    a = pm.Normal('a', mu=alpha, sd=sigma_full[0], shape=numpigs)\n",
    "    \n",
    "#     # Random effect of individual pig on crop_grad\n",
    "#     b = pm.Normal('b', mu=0, sd=sigma_full[1], shape=numpigs)\n",
    "    \n",
    "    # Expected value of outcome\n",
    "    loglam = log(tau_t) + theano.dot(X_t, beta) + theano.dot(Z_t, a) #+ theano.dot(Z2_t, b)\n",
    "\n",
    "    # Likelihood (sampling distribution) of observations\n",
    "    Y_obs = pm.Poisson('Y_obs', mu=np.exp(loglam), observed=z_t, total_size=Xfull.shape[0])"
   ]
  },
  {
   "cell_type": "code",
   "execution_count": 20,
   "metadata": {},
   "outputs": [
    {
     "name": "stderr",
     "output_type": "stream",
     "text": [
      "Average Loss = 1.9639e+06: 100%|██████████| 20000/20000 [08:49<00:00, 37.78it/s]\n",
      "Finished [100%]: Average Loss = 1.9592e+06\n"
     ]
    }
   ],
   "source": [
    "with poisson_model:\n",
    "    inference = pm.ADVI()\n",
    "    modfit = pm.fit(n=40000, method=\"advi\", \n",
    "                callbacks=[pm.callbacks.CheckParametersConvergence(tolerance=1e-4)])"
   ]
  },
  {
   "cell_type": "code",
   "execution_count": 21,
   "metadata": {},
   "outputs": [
    {
     "data": {
      "text/plain": [
       "[<matplotlib.lines.Line2D at 0x1c1a758da0>]"
      ]
     },
     "execution_count": 21,
     "metadata": {},
     "output_type": "execute_result"
    },
    {
     "data": {
      "image/png": "[encoded data removed]",
      "text/plain": [
       "<matplotlib.figure.Figure at 0x1c1bd73208>"
      ]
     },
     "metadata": {},
     "output_type": "display_data"
    }
   ],
   "source": [
    "plt.plot(np.log(modfit.hist))"
   ]
  },
  {
   "cell_type": "code",
   "execution_count": 22,
   "metadata": {},
   "outputs": [],
   "source": [
    "trace = modfit.sample(draws=10000)"
   ]
  },
  {
   "cell_type": "code",
   "execution_count": 23,
   "metadata": {},
   "outputs": [
    {
     "data": {
      "text/html": [
       "<div>\n",
       "<style scoped>\n",
       "    .dataframe tbody tr th:only-of-type {\n",
       "        vertical-align: middle;\n",
       "    }\n",
       "\n",
       "    .dataframe tbody tr th {\n",
       "        vertical-align: top;\n",
       "    }\n",
       "\n",
       "    .dataframe thead th {\n",
       "        text-align: right;\n",
       "    }\n",
       "</style>\n",
       "<table border=\"1\" class=\"dataframe\">\n",
       "  <thead>\n",
       "    <tr style=\"text-align: right;\">\n",
       "      <th></th>\n",
       "      <th>mean</th>\n",
       "      <th>sd</th>\n",
       "      <th>mc_error</th>\n",
       "      <th>hpd_2.5</th>\n",
       "      <th>hpd_97.5</th>\n",
       "      <th>names</th>\n",
       "    </tr>\n",
       "  </thead>\n",
       "  <tbody>\n",
       "    <tr>\n",
       "      <th>alpha</th>\n",
       "      <td>-4.129431</td>\n",
       "      <td>0.296488</td>\n",
       "      <td>0.003312</td>\n",
       "      <td>-4.733080</td>\n",
       "      <td>-3.571257</td>\n",
       "      <td>intercept</td>\n",
       "    </tr>\n",
       "    <tr>\n",
       "      <th>beta__0</th>\n",
       "      <td>0.002429</td>\n",
       "      <td>0.050219</td>\n",
       "      <td>0.000455</td>\n",
       "      <td>-0.098305</td>\n",
       "      <td>0.097168</td>\n",
       "      <td>crw_z</td>\n",
       "    </tr>\n",
       "    <tr>\n",
       "      <th>beta__1</th>\n",
       "      <td>-4.803344</td>\n",
       "      <td>0.233891</td>\n",
       "      <td>0.002293</td>\n",
       "      <td>-5.252578</td>\n",
       "      <td>-4.338377</td>\n",
       "      <td>sexM</td>\n",
       "    </tr>\n",
       "    <tr>\n",
       "      <th>beta__2</th>\n",
       "      <td>-0.004168</td>\n",
       "      <td>0.060042</td>\n",
       "      <td>0.000596</td>\n",
       "      <td>-0.119002</td>\n",
       "      <td>0.114498</td>\n",
       "      <td>canopycover_loc_z</td>\n",
       "    </tr>\n",
       "    <tr>\n",
       "      <th>beta__3</th>\n",
       "      <td>-0.004093</td>\n",
       "      <td>0.050405</td>\n",
       "      <td>0.000471</td>\n",
       "      <td>-0.100899</td>\n",
       "      <td>0.095543</td>\n",
       "      <td>canopycover_grad_z</td>\n",
       "    </tr>\n",
       "    <tr>\n",
       "      <th>beta__4</th>\n",
       "      <td>-0.569699</td>\n",
       "      <td>0.053607</td>\n",
       "      <td>0.000569</td>\n",
       "      <td>-0.673234</td>\n",
       "      <td>-0.463805</td>\n",
       "      <td>water_loc_z</td>\n",
       "    </tr>\n",
       "    <tr>\n",
       "      <th>beta__5</th>\n",
       "      <td>-0.004364</td>\n",
       "      <td>0.051589</td>\n",
       "      <td>0.000536</td>\n",
       "      <td>-0.107757</td>\n",
       "      <td>0.094442</td>\n",
       "      <td>water_grad_z</td>\n",
       "    </tr>\n",
       "    <tr>\n",
       "      <th>beta__6</th>\n",
       "      <td>-0.342246</td>\n",
       "      <td>0.062658</td>\n",
       "      <td>0.000566</td>\n",
       "      <td>-0.459581</td>\n",
       "      <td>-0.217766</td>\n",
       "      <td>ndvi_loc_z</td>\n",
       "    </tr>\n",
       "    <tr>\n",
       "      <th>beta__7</th>\n",
       "      <td>0.004061</td>\n",
       "      <td>0.053107</td>\n",
       "      <td>0.000631</td>\n",
       "      <td>-0.103310</td>\n",
       "      <td>0.105745</td>\n",
       "      <td>ndvi_grad_z</td>\n",
       "    </tr>\n",
       "    <tr>\n",
       "      <th>beta__8</th>\n",
       "      <td>-1.103853</td>\n",
       "      <td>0.075082</td>\n",
       "      <td>0.000702</td>\n",
       "      <td>-1.246082</td>\n",
       "      <td>-0.953468</td>\n",
       "      <td>masting_loc_z</td>\n",
       "    </tr>\n",
       "    <tr>\n",
       "      <th>beta__9</th>\n",
       "      <td>0.000028</td>\n",
       "      <td>0.053536</td>\n",
       "      <td>0.000616</td>\n",
       "      <td>-0.102785</td>\n",
       "      <td>0.106727</td>\n",
       "      <td>masting_grad_z</td>\n",
       "    </tr>\n",
       "    <tr>\n",
       "      <th>beta__10</th>\n",
       "      <td>-0.466747</td>\n",
       "      <td>0.060419</td>\n",
       "      <td>0.000594</td>\n",
       "      <td>-0.584068</td>\n",
       "      <td>-0.348754</td>\n",
       "      <td>crop_loc_z</td>\n",
       "    </tr>\n",
       "    <tr>\n",
       "      <th>beta__11</th>\n",
       "      <td>-0.001034</td>\n",
       "      <td>0.049978</td>\n",
       "      <td>0.000457</td>\n",
       "      <td>-0.097929</td>\n",
       "      <td>0.098039</td>\n",
       "      <td>crop_grad_z</td>\n",
       "    </tr>\n",
       "    <tr>\n",
       "      <th>a__0</th>\n",
       "      <td>-5.262012</td>\n",
       "      <td>0.225931</td>\n",
       "      <td>0.002422</td>\n",
       "      <td>-5.704010</td>\n",
       "      <td>-4.828040</td>\n",
       "      <td>0</td>\n",
       "    </tr>\n",
       "    <tr>\n",
       "      <th>a__1</th>\n",
       "      <td>-5.310469</td>\n",
       "      <td>0.239508</td>\n",
       "      <td>0.002422</td>\n",
       "      <td>-5.770001</td>\n",
       "      <td>-4.832681</td>\n",
       "      <td>1</td>\n",
       "    </tr>\n",
       "    <tr>\n",
       "      <th>a__2</th>\n",
       "      <td>-4.384428</td>\n",
       "      <td>0.273901</td>\n",
       "      <td>0.002225</td>\n",
       "      <td>-4.953492</td>\n",
       "      <td>-3.876974</td>\n",
       "      <td>2</td>\n",
       "    </tr>\n",
       "    <tr>\n",
       "      <th>a__3</th>\n",
       "      <td>-5.140728</td>\n",
       "      <td>0.226277</td>\n",
       "      <td>0.002402</td>\n",
       "      <td>-5.588628</td>\n",
       "      <td>-4.707374</td>\n",
       "      <td>3</td>\n",
       "    </tr>\n",
       "    <tr>\n",
       "      <th>a__4</th>\n",
       "      <td>-4.509027</td>\n",
       "      <td>0.275914</td>\n",
       "      <td>0.002813</td>\n",
       "      <td>-5.029828</td>\n",
       "      <td>-3.942147</td>\n",
       "      <td>4</td>\n",
       "    </tr>\n",
       "    <tr>\n",
       "      <th>a__5</th>\n",
       "      <td>-5.445921</td>\n",
       "      <td>0.209342</td>\n",
       "      <td>0.001882</td>\n",
       "      <td>-5.865907</td>\n",
       "      <td>-5.041691</td>\n",
       "      <td>5</td>\n",
       "    </tr>\n",
       "    <tr>\n",
       "      <th>a__6</th>\n",
       "      <td>-5.325375</td>\n",
       "      <td>0.220651</td>\n",
       "      <td>0.002136</td>\n",
       "      <td>-5.762109</td>\n",
       "      <td>-4.902640</td>\n",
       "      <td>6</td>\n",
       "    </tr>\n",
       "    <tr>\n",
       "      <th>a__7</th>\n",
       "      <td>-4.747154</td>\n",
       "      <td>0.262482</td>\n",
       "      <td>0.002561</td>\n",
       "      <td>-5.245723</td>\n",
       "      <td>-4.220982</td>\n",
       "      <td>7</td>\n",
       "    </tr>\n",
       "    <tr>\n",
       "      <th>a__8</th>\n",
       "      <td>-4.155331</td>\n",
       "      <td>0.283731</td>\n",
       "      <td>0.002806</td>\n",
       "      <td>-4.713328</td>\n",
       "      <td>-3.593573</td>\n",
       "      <td>8</td>\n",
       "    </tr>\n",
       "    <tr>\n",
       "      <th>a__9</th>\n",
       "      <td>-4.710763</td>\n",
       "      <td>0.232247</td>\n",
       "      <td>0.002482</td>\n",
       "      <td>-5.161706</td>\n",
       "      <td>-4.251449</td>\n",
       "      <td>9</td>\n",
       "    </tr>\n",
       "    <tr>\n",
       "      <th>a__10</th>\n",
       "      <td>-3.375540</td>\n",
       "      <td>0.384019</td>\n",
       "      <td>0.004058</td>\n",
       "      <td>-4.158962</td>\n",
       "      <td>-2.654199</td>\n",
       "      <td>10</td>\n",
       "    </tr>\n",
       "    <tr>\n",
       "      <th>a__11</th>\n",
       "      <td>-3.940269</td>\n",
       "      <td>0.287205</td>\n",
       "      <td>0.003147</td>\n",
       "      <td>-4.499733</td>\n",
       "      <td>-3.379139</td>\n",
       "      <td>11</td>\n",
       "    </tr>\n",
       "    <tr>\n",
       "      <th>a__12</th>\n",
       "      <td>-4.552612</td>\n",
       "      <td>0.244881</td>\n",
       "      <td>0.002577</td>\n",
       "      <td>-5.039789</td>\n",
       "      <td>-4.071953</td>\n",
       "      <td>12</td>\n",
       "    </tr>\n",
       "    <tr>\n",
       "      <th>sigma_a</th>\n",
       "      <td>0.957495</td>\n",
       "      <td>0.223555</td>\n",
       "      <td>0.002443</td>\n",
       "      <td>0.564371</td>\n",
       "      <td>1.405664</td>\n",
       "      <td>sigma_a</td>\n",
       "    </tr>\n",
       "  </tbody>\n",
       "</table>\n",
       "</div>"
      ],
      "text/plain": [
       "              mean        sd  mc_error   hpd_2.5  hpd_97.5               names\n",
       "alpha    -4.129431  0.296488  0.003312 -4.733080 -3.571257           intercept\n",
       "beta__0   0.002429  0.050219  0.000455 -0.098305  0.097168               crw_z\n",
       "beta__1  -4.803344  0.233891  0.002293 -5.252578 -4.338377                sexM\n",
       "beta__2  -0.004168  0.060042  0.000596 -0.119002  0.114498   canopycover_loc_z\n",
       "beta__3  -0.004093  0.050405  0.000471 -0.100899  0.095543  canopycover_grad_z\n",
       "beta__4  -0.569699  0.053607  0.000569 -0.673234 -0.463805         water_loc_z\n",
       "beta__5  -0.004364  0.051589  0.000536 -0.107757  0.094442        water_grad_z\n",
       "beta__6  -0.342246  0.062658  0.000566 -0.459581 -0.217766          ndvi_loc_z\n",
       "beta__7   0.004061  0.053107  0.000631 -0.103310  0.105745         ndvi_grad_z\n",
       "beta__8  -1.103853  0.075082  0.000702 -1.246082 -0.953468       masting_loc_z\n",
       "beta__9   0.000028  0.053536  0.000616 -0.102785  0.106727      masting_grad_z\n",
       "beta__10 -0.466747  0.060419  0.000594 -0.584068 -0.348754          crop_loc_z\n",
       "beta__11 -0.001034  0.049978  0.000457 -0.097929  0.098039         crop_grad_z\n",
       "a__0     -5.262012  0.225931  0.002422 -5.704010 -4.828040                   0\n",
       "a__1     -5.310469  0.239508  0.002422 -5.770001 -4.832681                   1\n",
       "a__2     -4.384428  0.273901  0.002225 -4.953492 -3.876974                   2\n",
       "a__3     -5.140728  0.226277  0.002402 -5.588628 -4.707374                   3\n",
       "a__4     -4.509027  0.275914  0.002813 -5.029828 -3.942147                   4\n",
       "a__5     -5.445921  0.209342  0.001882 -5.865907 -5.041691                   5\n",
       "a__6     -5.325375  0.220651  0.002136 -5.762109 -4.902640                   6\n",
       "a__7     -4.747154  0.262482  0.002561 -5.245723 -4.220982                   7\n",
       "a__8     -4.155331  0.283731  0.002806 -4.713328 -3.593573                   8\n",
       "a__9     -4.710763  0.232247  0.002482 -5.161706 -4.251449                   9\n",
       "a__10    -3.375540  0.384019  0.004058 -4.158962 -2.654199                  10\n",
       "a__11    -3.940269  0.287205  0.003147 -4.499733 -3.379139                  11\n",
       "a__12    -4.552612  0.244881  0.002577 -5.039789 -4.071953                  12\n",
       "sigma_a   0.957495  0.223555  0.002443  0.564371  1.405664             sigma_a"
      ]
     },
     "execution_count": 23,
     "metadata": {},
     "output_type": "execute_result"
    }
   ],
   "source": [
    "coef = pm.summary(trace)\n",
    "coef.loc[:, \"names\"] = [\"intercept\"] +  list(Xfull.columns) + list(range(13)) + ['sigma_a']\n",
    "coef"
   ]
  },
  {
   "cell_type": "markdown",
   "metadata": {},
   "source": [
    "## Time-varying pig movement\n",
    "\n",
    "First fitting Tejon trajectories"
   ]
  },
  {
   "cell_type": "code",
   "execution_count": 165,
   "metadata": {},
   "outputs": [],
   "source": [
    "Xtej_gam = pd.read_csv(\"../results/temp_Xgam_tej.csv\")"
   ]
  },
  {
   "cell_type": "code",
   "execution_count": 175,
   "metadata": {},
   "outputs": [],
   "source": [
    "gam_model = pm.Model()\n",
    "\n",
    "numparams = Xtej_gam.shape[1]\n",
    "\n",
    "batch = 1000\n",
    "X_t = pm.Minibatch(Xtej_gam.values, batch)\n",
    "z_t = pm.Minibatch(z, batch)\n",
    "tau_t = pm.Minibatch(tau, batch)\n",
    "\n",
    "with gam_model:\n",
    "\n",
    "    # Hyper priors for unknown model parameters\n",
    "    alpha = pm.Normal('alpha', mu=0, sd=5)\n",
    "    beta = pm.Normal('beta', mu=0, sd=1, shape=numparams)\n",
    "    \n",
    "    loglam = log(tau_t) + alpha + theano.dot(X_t, beta)\n",
    "\n",
    "    # Likelihood (sampling distribution) of observations\n",
    "    Y_obs = pm.Poisson('Y_obs', mu=np.exp(loglam), observed=z_t, total_size=Xtej_gam.shape[0])"
   ]
  },
  {
   "cell_type": "code",
   "execution_count": 176,
   "metadata": {},
   "outputs": [
    {
     "name": "stderr",
     "output_type": "stream",
     "text": [
      "Average Loss = 7.2948e+09:   0%|          | 24/40000 [00:05<2:32:26,  4.37it/s]\n",
      "Interrupted at 24 [0%]: Average Loss = 7.7018e+09\n"
     ]
    }
   ],
   "source": [
    "# Fit the Tejon GAM model\n",
    "with gam_model:\n",
    "    tej_inference = pm.ADVI()\n",
    "    tej_gam = pm.fit(n=40000, method=\"advi\", \n",
    "                callbacks=[pm.callbacks.CheckParametersConvergence(tolerance=1e-4)])"
   ]
  },
  {
   "cell_type": "code",
   "execution_count": 167,
   "metadata": {},
   "outputs": [
    {
     "data": {
      "text/plain": [
       "(787320, 49)"
      ]
     },
     "execution_count": 167,
     "metadata": {},
     "output_type": "execute_result"
    }
   ],
   "source": [
    "Xtej_gam.shape"
   ]
  },
  {
   "cell_type": "code",
   "execution_count": 177,
   "metadata": {},
   "outputs": [
    {
     "data": {
      "text/plain": [
       "crw_z             0.000000\n",
       "sexM              0.311258\n",
       "hour_2            0.232626\n",
       "hour_3            0.107256\n",
       "hour_4            0.096047\n",
       "hour_5            0.290658\n",
       "month_1           0.294783\n",
       "month_2           0.179124\n",
       "month_4           0.131572\n",
       "month_5           0.284762\n",
       "cover_loc_1      -0.121597\n",
       "cover_loc_2      -0.028810\n",
       "cover_loc_3       0.063239\n",
       "cover_loc_4       0.073328\n",
       "cover_loc_5       0.013840\n",
       "cover_grad_1      0.000000\n",
       "cover_grad_2      0.000000\n",
       "cover_grad_3      0.000000\n",
       "cover_grad_4      0.000000\n",
       "cover_grad_5      0.000000\n",
       "water_loc_1       0.008950\n",
       "water_loc_2      -0.002165\n",
       "water_loc_3       0.012705\n",
       "water_loc_4       0.022857\n",
       "water_loc_5      -0.042347\n",
       "water_grad_2      0.000000\n",
       "water_grad_5      0.000000\n",
       "crop_loc_1        0.121118\n",
       "crop_loc_2        0.073570\n",
       "crop_loc_3       -0.000841\n",
       "crop_loc_4       -0.094952\n",
       "crop_loc_5       -0.098895\n",
       "crop_grad_3       0.000000\n",
       "crop_grad_4       0.000000\n",
       "masting_loc_1     0.054018\n",
       "masting_loc_3     0.022999\n",
       "masting_loc_4    -0.006282\n",
       "masting_loc_5    -0.130814\n",
       "masting_grad_1    0.000000\n",
       "masting_grad_2    0.000000\n",
       "masting_grad_4    0.000000\n",
       "ndvi_loc_2        0.174069\n",
       "ndvi_loc_3        0.114085\n",
       "ndvi_loc_4       -0.068081\n",
       "ndvi_loc_5       -0.212777\n",
       "ndvi_grad_1       0.000000\n",
       "ndvi_grad_2       0.000000\n",
       "ndvi_grad_3       0.000000\n",
       "ndvi_grad_5       0.000000\n",
       "dtype: float64"
      ]
     },
     "execution_count": 177,
     "metadata": {},
     "output_type": "execute_result"
    }
   ],
   "source": [
    "Xtej_gam.mean(axis=0)"
   ]
  },
  {
   "cell_type": "code",
   "execution_count": null,
   "metadata": {},
   "outputs": [],
   "source": []
  }
 ],
 "metadata": {
  "kernelspec": {
   "display_name": "Python 3",
   "language": "python",
   "name": "python3"
  },
  "language_info": {
   "codemirror_mode": {
    "name": "ipython",
    "version": 3
   },
   "file_extension": ".py",
   "mimetype": "text/x-python",
   "name": "python",
   "nbconvert_exporter": "python",
   "pygments_lexer": "ipython3",
   "version": "3.6.4"
  }
 },
 "nbformat": 4,
 "nbformat_minor": 2
}
