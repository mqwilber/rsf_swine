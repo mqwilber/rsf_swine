{
 "cells": [
  {
   "cell_type": "code",
   "execution_count": 1,
   "metadata": {},
   "outputs": [
    {
     "name": "stderr",
     "output_type": "stream",
     "text": [
      "/Users/mqwilber/anaconda3/lib/python3.6/site-packages/h5py/__init__.py:36: FutureWarning: Conversion of the second argument of issubdtype from `float` to `np.floating` is deprecated. In future, it will be treated as `np.float64 == np.dtype(float).type`.\n",
      "  from ._conv import register_converters as _register_converters\n"
     ]
    }
   ],
   "source": [
    "import pymc3 as pm\n",
    "import pandas as pd\n",
    "import numpy as np\n",
    "from numpy import log, exp\n",
    "import matplotlib.pyplot as plt\n",
    "import seaborn as sns\n",
    "import theano\n",
    "import theano.tensor as T\n",
    "sns.set_style(\"white\")\n",
    "%load_ext rpy2.ipython"
   ]
  },
  {
   "cell_type": "markdown",
   "metadata": {},
   "source": [
    "## Fitting a mixed effect model Poisson GLM with ADVI mini_batch\n",
    "\n",
    "1. Regularize using GLM Lasso\n",
    "    - The first step in the analysis is, for each study, to fit a regularizing GLM LASSO to help identify the primary factors driving pig movement.  Particularly, we want to see how foraging resources affect pig movement as main effects and as interactive effects with other available resources.\n",
    "\n",
    "2. Fit a mixed effect model using ADVI\n",
    "    - Once we've identified a simple minimalish model, we want to more robustly extract the population-level effects by fitting a mixed effects model in which we allow random effects of individuals. We will use Mini-batch ADVI to fit these models, hopefully without losing too much realism in the predictions.  This will be a good way to include error in the predictions\n",
    "    "
   ]
  },
  {
   "cell_type": "code",
   "execution_count": 2,
   "metadata": {},
   "outputs": [],
   "source": [
    "tejondat = pd.read_csv(\"/Users/mqwilber/Repos/rsf_swine/results/glmdata_by_study/tejon.csv\")"
   ]
  },
  {
   "cell_type": "code",
   "execution_count": 181,
   "metadata": {},
   "outputs": [],
   "source": [
    "pigattrib = pd.read_csv(\"/Users/mqwilber/Repos/rsf_swine/data/formatted/pig_attributes.csv\")[['pigID', \"sex\"]]\n",
    "tejondat = pd.merge(tejondat, pigattrib, on=\"pigID\")"
   ]
  },
  {
   "cell_type": "code",
   "execution_count": 3,
   "metadata": {},
   "outputs": [],
   "source": [
    "Xtej = pd.read_csv(\"../results/temp_Xtejon.csv\")"
   ]
  },
  {
   "cell_type": "code",
   "execution_count": 4,
   "metadata": {},
   "outputs": [],
   "source": [
    "Xtej = Xtej.drop(columns=['(Intercept)'])"
   ]
  },
  {
   "cell_type": "code",
   "execution_count": 9,
   "metadata": {},
   "outputs": [],
   "source": [
    "from sklearn.preprocessing import StandardScaler\n",
    "\n",
    "include_vars = [\"crw\",\n",
    "                \"canopycover_loc\", \"canopycover_grad\",\n",
    "                \"water_loc\",\n",
    "                \"ndvi_loc\", \n",
    "                \"masting_loc\", \n",
    "                \"crop_loc\",\n",
    "                \"crop_grad\",\n",
    "                \"precipitation_loc\", \"temperature_loc\"]\n",
    "\n",
    "interactions = [\"canopycover_loc:temperature_loc\",\n",
    "                \"canopycover_grad:temperature_loc\",\n",
    "                \"masting_loc:precipitation_loc\", \n",
    "                \"temperature_loc:precipitation_loc:water_loc\",\n",
    "                \"water_loc:temperature_loc\",\n",
    "                \"ndvi_loc:crop_loc\"]\n",
    "\n",
    "\n",
    "## NOTE: See Buderman et al. 2018.  I potentially should standardize for each pig separately rather than all of them \n",
    "## simultaneously.\n",
    "\n",
    "z = tejondat.z.values\n",
    "tau = tejondat.tau.values\n",
    "\n",
    "# Build the design matrix\n",
    "X = pd.DataFrame(StandardScaler().fit_transform(X=tejondat[include_vars].values))\n",
    "X.columns = include_vars\n",
    "\n",
    "# Include interactions\n",
    "\n",
    "Xint = pd.DataFrame(np.array([np.cumprod(X[inter.split(\":\")].values, axis=1)[:, -1] for inter in interactions]).T)\n",
    "Xint.columns = interactions\n",
    "Xfull = pd.concat([X, Xint], axis=1)\n",
    "#Xfull = pd.concat([Xfull, pd.get_dummies(tejondat.sex)[['M']]], axis=1)\n",
    "#Xfull = Xfull.rename(columns={'M': \"sex\"})\n",
    "\n",
    "# Drop main effects of temperature and precip\n",
    "Xfull =  Xfull.drop(columns=[\"temperature_loc\", \"precipitation_loc\"])\n",
    "\n",
    "\n",
    "pigIDs = pd.Series(tejondat.pigID)\n",
    "unqpigIDs = pd.Series(pigIDs.unique()).reset_index()\n",
    "unqpigIDs.columns = ['pigID_index', 'pigID']\n",
    "pigIDs_num = pd.merge(pd.DataFrame(pigIDs), unqpigIDs, on=\"pigID\").pigID_index\n",
    "\n",
    "Z = pd.get_dummies(tejondat.pigID)\n",
    "\n",
    "Zfull = Xfull.crop_loc.values[:, np.newaxis] * Z\n",
    "Zfull2 = Xfull.crop_grad.values[:, np.newaxis] * Z"
   ]
  },
  {
   "cell_type": "code",
   "execution_count": 11,
   "metadata": {},
   "outputs": [
    {
     "data": {
      "text/plain": [
       "(785272, 12)"
      ]
     },
     "execution_count": 11,
     "metadata": {},
     "output_type": "execute_result"
    }
   ],
   "source": [
    "Z.shape\n",
    "Xtej.shape"
   ]
  },
  {
   "cell_type": "markdown",
   "metadata": {},
   "source": [
    "Build a PyMC3 model using MiniBatch."
   ]
  },
  {
   "cell_type": "code",
   "execution_count": 19,
   "metadata": {},
   "outputs": [],
   "source": [
    "import theano\n",
    "import theano.tensor\n",
    "\n",
    "Xfull = Xtej\n",
    "poisson_model = pm.Model()\n",
    "numparams = Xfull.shape[1]\n",
    "\n",
    "batch = 1000\n",
    "X_t = pm.Minibatch(Xfull.values, batch)\n",
    "z_t = pm.Minibatch(z, batch)\n",
    "tau_t = pm.Minibatch(tau, batch)\n",
    "Z_t = pm.Minibatch(Z.values, batch)\n",
    "\n",
    "numrand = 1\n",
    "\n",
    "# pigID_t = pm.Minibatch(pigIDs_num, batch)\n",
    "numpigs = len(np.unique(tejondat.pigID))\n",
    "\n",
    "with poisson_model:\n",
    "\n",
    "    # Hyper priors for unknown model parameters\n",
    "    alpha = pm.Normal('alpha', mu=0, sd=5)\n",
    "    beta = pm.Normal('beta', mu=0, sd=3, shape=numparams)\n",
    "    sigma_a = pm.HalfCauchy(\"sigma_a\", beta=2)\n",
    "    \n",
    "    phi_vect = pm.Lognormal('phi_vect', mu=0, sd=0.04, shape=numrand - 1)\n",
    "    sigma_vect = sigma_a * phi_vect\n",
    "    sigma_full = T.concatenate([T.stack(sigma_a), sigma_vect])\n",
    "    \n",
    "    # Random effect of individual pig on general movement\n",
    "    a = pm.Normal('a', mu=alpha, sd=sigma_full[0], shape=numpigs)\n",
    "    \n",
    "#     # Random effect of individual pig on crop_grad\n",
    "#     b = pm.Normal('b', mu=0, sd=sigma_full[1], shape=numpigs)\n",
    "    \n",
    "    # Expected value of outcome\n",
    "    loglam = log(tau_t) + theano.dot(X_t, beta) + theano.dot(Z_t, a) #+ theano.dot(Z2_t, b)\n",
    "\n",
    "    # Likelihood (sampling distribution) of observations\n",
    "    Y_obs = pm.Poisson('Y_obs', mu=np.exp(loglam), observed=z_t, total_size=Xfull.shape[0])"
   ]
  },
  {
   "cell_type": "code",
   "execution_count": 20,
   "metadata": {},
   "outputs": [
    {
     "name": "stderr",
     "output_type": "stream",
     "text": [
      "Average Loss = 1.9639e+06: 100%|██████████| 20000/20000 [08:49<00:00, 37.78it/s]\n",
      "Finished [100%]: Average Loss = 1.9592e+06\n"
     ]
    }
   ],
   "source": [
    "with poisson_model:\n",
    "    inference = pm.ADVI()\n",
    "    modfit = pm.fit(n=40000, method=\"advi\", \n",
    "                callbacks=[pm.callbacks.CheckParametersConvergence(tolerance=1e-4)])"
   ]
  },
  {
   "cell_type": "code",
   "execution_count": 21,
   "metadata": {},
   "outputs": [
    {
     "data": {
      "text/plain": [
       "[<matplotlib.lines.Line2D at 0x1c1a758da0>]"
      ]
     },
     "execution_count": 21,
     "metadata": {},
     "output_type": "execute_result"
    },
    {
     "data": {
      "image/png": "[encoded data removed]",
      "text/plain": [
       "<matplotlib.figure.Figure at 0x1c1bd73208>"
      ]
     },
     "metadata": {},
     "output_type": "display_data"
    }
   ],
   "source": [
    "plt.plot(np.log(modfit.hist))"
   ]
  },
  {
   "cell_type": "code",
   "execution_count": 22,
   "metadata": {},
   "outputs": [],
   "source": [
    "trace = modfit.sample(draws=10000)"
   ]
  },
  {
   "cell_type": "code",
   "execution_count": 23,
   "metadata": {},
   "outputs": [
    {
     "data": {
      "text/html": [
       "<div>\n",
       "<style scoped>\n",
       "    .dataframe tbody tr th:only-of-type {\n",
       "        vertical-align: middle;\n",
       "    }\n",
       "\n",
       "    .dataframe tbody tr th {\n",
       "        vertical-align: top;\n",
       "    }\n",
       "\n",
       "    .dataframe thead th {\n",
       "        text-align: right;\n",
       "    }\n",
       "</style>\n",
       "<table border=\"1\" class=\"dataframe\">\n",
       "  <thead>\n",
       "    <tr style=\"text-align: right;\">\n",
       "      <th></th>\n",
       "      <th>mean</th>\n",
       "      <th>sd</th>\n",
       "      <th>mc_error</th>\n",
       "      <th>hpd_2.5</th>\n",
       "      <th>hpd_97.5</th>\n",
       "      <th>names</th>\n",
       "    </tr>\n",
       "  </thead>\n",
       "  <tbody>\n",
       "    <tr>\n",
       "      <th>alpha</th>\n",
       "      <td>-4.129431</td>\n",
       "      <td>0.296488</td>\n",
       "      <td>0.003312</td>\n",
       "      <td>-4.733080</td>\n",
       "      <td>-3.571257</td>\n",
       "      <td>intercept</td>\n",
       "    </tr>\n",
       "    <tr>\n",
       "      <th>beta__0</th>\n",
       "      <td>0.002429</td>\n",
       "      <td>0.050219</td>\n",
       "      <td>0.000455</td>\n",
       "      <td>-0.098305</td>\n",
       "      <td>0.097168</td>\n",
       "      <td>crw_z</td>\n",
       "    </tr>\n",
       "    <tr>\n",
       "      <th>beta__1</th>\n",
       "      <td>-4.803344</td>\n",
       "      <td>0.233891</td>\n",
       "      <td>0.002293</td>\n",
       "      <td>-5.252578</td>\n",
       "      <td>-4.338377</td>\n",
       "      <td>sexM</td>\n",
       "    </tr>\n",
       "    <tr>\n",
       "      <th>beta__2</th>\n",
       "      <td>-0.004168</td>\n",
       "      <td>0.060042</td>\n",
       "      <td>0.000596</td>\n",
       "      <td>-0.119002</td>\n",
       "      <td>0.114498</td>\n",
       "      <td>canopycover_loc_z</td>\n",
       "    </tr>\n",
       "    <tr>\n",
       "      <th>beta__3</th>\n",
       "      <td>-0.004093</td>\n",
       "      <td>0.050405</td>\n",
       "      <td>0.000471</td>\n",
       "      <td>-0.100899</td>\n",
       "      <td>0.095543</td>\n",
       "      <td>canopycover_grad_z</td>\n",
       "    </tr>\n",
       "    <tr>\n",
       "      <th>beta__4</th>\n",
       "      <td>-0.569699</td>\n",
       "      <td>0.053607</td>\n",
       "      <td>0.000569</td>\n",
       "      <td>-0.673234</td>\n",
       "      <td>-0.463805</td>\n",
       "      <td>water_loc_z</td>\n",
       "    </tr>\n",
       "    <tr>\n",
       "      <th>beta__5</th>\n",
       "      <td>-0.004364</td>\n",
       "      <td>0.051589</td>\n",
       "      <td>0.000536</td>\n",
       "      <td>-0.107757</td>\n",
       "      <td>0.094442</td>\n",
       "      <td>water_grad_z</td>\n",
       "    </tr>\n",
       "    <tr>\n",
       "      <th>beta__6</th>\n",
       "      <td>-0.342246</td>\n",
       "      <td>0.062658</td>\n",
       "      <td>0.000566</td>\n",
       "      <td>-0.459581</td>\n",
       "      <td>-0.217766</td>\n",
       "      <td>ndvi_loc_z</td>\n",
       "    </tr>\n",
       "    <tr>\n",
       "      <th>beta__7</th>\n",
       "      <td>0.004061</td>\n",
       "      <td>0.053107</td>\n",
       "      <td>0.000631</td>\n",
       "      <td>-0.103310</td>\n",
       "      <td>0.105745</td>\n",
       "      <td>ndvi_grad_z</td>\n",
       "    </tr>\n",
       "    <tr>\n",
       "      <th>beta__8</th>\n",
       "      <td>-1.103853</td>\n",
       "      <td>0.075082</td>\n",
       "      <td>0.000702</td>\n",
       "      <td>-1.246082</td>\n",
       "      <td>-0.953468</td>\n",
       "      <td>masting_loc_z</td>\n",
       "    </tr>\n",
       "    <tr>\n",
       "      <th>beta__9</th>\n",
       "      <td>0.000028</td>\n",
       "      <td>0.053536</td>\n",
       "      <td>0.000616</td>\n",
       "      <td>-0.102785</td>\n",
       "      <td>0.106727</td>\n",
       "      <td>masting_grad_z</td>\n",
       "    </tr>\n",
       "    <tr>\n",
       "      <th>beta__10</th>\n",
       "      <td>-0.466747</td>\n",
       "      <td>0.060419</td>\n",
       "      <td>0.000594</td>\n",
       "      <td>-0.584068</td>\n",
       "      <td>-0.348754</td>\n",
       "      <td>crop_loc_z</td>\n",
       "    </tr>\n",
       "    <tr>\n",
       "      <th>beta__11</th>\n",
       "      <td>-0.001034</td>\n",
       "      <td>0.049978</td>\n",
       "      <td>0.000457</td>\n",
       "      <td>-0.097929</td>\n",
       "      <td>0.098039</td>\n",
       "      <td>crop_grad_z</td>\n",
       "    </tr>\n",
       "    <tr>\n",
       "      <th>a__0</th>\n",
       "      <td>-5.262012</td>\n",
       "      <td>0.225931</td>\n",
       "      <td>0.002422</td>\n",
       "      <td>-5.704010</td>\n",
       "      <td>-4.828040</td>\n",
       "      <td>0</td>\n",
       "    </tr>\n",
       "    <tr>\n",
       "      <th>a__1</th>\n",
       "      <td>-5.310469</td>\n",
       "      <td>0.239508</td>\n",
       "      <td>0.002422</td>\n",
       "      <td>-5.770001</td>\n",
       "      <td>-4.832681</td>\n",
       "      <td>1</td>\n",
       "    </tr>\n",
       "    <tr>\n",
       "      <th>a__2</th>\n",
       "      <td>-4.384428</td>\n",
       "      <td>0.273901</td>\n",
       "      <td>0.002225</td>\n",
       "      <td>-4.953492</td>\n",
       "      <td>-3.876974</td>\n",
       "      <td>2</td>\n",
       "    </tr>\n",
       "    <tr>\n",
       "      <th>a__3</th>\n",
       "      <td>-5.140728</td>\n",
       "      <td>0.226277</td>\n",
       "      <td>0.002402</td>\n",
       "      <td>-5.588628</td>\n",
       "      <td>-4.707374</td>\n",
       "      <td>3</td>\n",
       "    </tr>\n",
       "    <tr>\n",
       "      <th>a__4</th>\n",
       "      <td>-4.509027</td>\n",
       "      <td>0.275914</td>\n",
       "      <td>0.002813</td>\n",
       "      <td>-5.029828</td>\n",
       "      <td>-3.942147</td>\n",
       "      <td>4</td>\n",
       "    </tr>\n",
       "    <tr>\n",
       "      <th>a__5</th>\n",
       "      <td>-5.445921</td>\n",
       "      <td>0.209342</td>\n",
       "      <td>0.001882</td>\n",
       "      <td>-5.865907</td>\n",
       "      <td>-5.041691</td>\n",
       "      <td>5</td>\n",
       "    </tr>\n",
       "    <tr>\n",
       "      <th>a__6</th>\n",
       "      <td>-5.325375</td>\n",
       "      <td>0.220651</td>\n",
       "      <td>0.002136</td>\n",
       "      <td>-5.762109</td>\n",
       "      <td>-4.902640</td>\n",
       "      <td>6</td>\n",
       "    </tr>\n",
       "    <tr>\n",
       "      <th>a__7</th>\n",
       "      <td>-4.747154</td>\n",
       "      <td>0.262482</td>\n",
       "      <td>0.002561</td>\n",
       "      <td>-5.245723</td>\n",
       "      <td>-4.220982</td>\n",
       "      <td>7</td>\n",
       "    </tr>\n",
       "    <tr>\n",
       "      <th>a__8</th>\n",
       "      <td>-4.155331</td>\n",
       "      <td>0.283731</td>\n",
       "      <td>0.002806</td>\n",
       "      <td>-4.713328</td>\n",
       "      <td>-3.593573</td>\n",
       "      <td>8</td>\n",
       "    </tr>\n",
       "    <tr>\n",
       "      <th>a__9</th>\n",
       "      <td>-4.710763</td>\n",
       "      <td>0.232247</td>\n",
       "      <td>0.002482</td>\n",
       "      <td>-5.161706</td>\n",
       "      <td>-4.251449</td>\n",
       "      <td>9</td>\n",
       "    </tr>\n",
       "    <tr>\n",
       "      <th>a__10</th>\n",
       "      <td>-3.375540</td>\n",
       "      <td>0.384019</td>\n",
       "      <td>0.004058</td>\n",
       "      <td>-4.158962</td>\n",
       "      <td>-2.654199</td>\n",
       "      <td>10</td>\n",
       "    </tr>\n",
       "    <tr>\n",
       "      <th>a__11</th>\n",
       "      <td>-3.940269</td>\n",
       "      <td>0.287205</td>\n",
       "      <td>0.003147</td>\n",
       "      <td>-4.499733</td>\n",
       "      <td>-3.379139</td>\n",
       "      <td>11</td>\n",
       "    </tr>\n",
       "    <tr>\n",
       "      <th>a__12</th>\n",
       "      <td>-4.552612</td>\n",
       "      <td>0.244881</td>\n",
       "      <td>0.002577</td>\n",
       "      <td>-5.039789</td>\n",
       "      <td>-4.071953</td>\n",
       "      <td>12</td>\n",
       "    </tr>\n",
       "    <tr>\n",
       "      <th>sigma_a</th>\n",
       "      <td>0.957495</td>\n",
       "      <td>0.223555</td>\n",
       "      <td>0.002443</td>\n",
       "      <td>0.564371</td>\n",
       "      <td>1.405664</td>\n",
       "      <td>sigma_a</td>\n",
       "    </tr>\n",
       "  </tbody>\n",
       "</table>\n",
       "</div>"
      ],
      "text/plain": [
       "              mean        sd  mc_error   hpd_2.5  hpd_97.5               names\n",
       "alpha    -4.129431  0.296488  0.003312 -4.733080 -3.571257           intercept\n",
       "beta__0   0.002429  0.050219  0.000455 -0.098305  0.097168               crw_z\n",
       "beta__1  -4.803344  0.233891  0.002293 -5.252578 -4.338377                sexM\n",
       "beta__2  -0.004168  0.060042  0.000596 -0.119002  0.114498   canopycover_loc_z\n",
       "beta__3  -0.004093  0.050405  0.000471 -0.100899  0.095543  canopycover_grad_z\n",
       "beta__4  -0.569699  0.053607  0.000569 -0.673234 -0.463805         water_loc_z\n",
       "beta__5  -0.004364  0.051589  0.000536 -0.107757  0.094442        water_grad_z\n",
       "beta__6  -0.342246  0.062658  0.000566 -0.459581 -0.217766          ndvi_loc_z\n",
       "beta__7   0.004061  0.053107  0.000631 -0.103310  0.105745         ndvi_grad_z\n",
       "beta__8  -1.103853  0.075082  0.000702 -1.246082 -0.953468       masting_loc_z\n",
       "beta__9   0.000028  0.053536  0.000616 -0.102785  0.106727      masting_grad_z\n",
       "beta__10 -0.466747  0.060419  0.000594 -0.584068 -0.348754          crop_loc_z\n",
       "beta__11 -0.001034  0.049978  0.000457 -0.097929  0.098039         crop_grad_z\n",
       "a__0     -5.262012  0.225931  0.002422 -5.704010 -4.828040                   0\n",
       "a__1     -5.310469  0.239508  0.002422 -5.770001 -4.832681                   1\n",
       "a__2     -4.384428  0.273901  0.002225 -4.953492 -3.876974                   2\n",
       "a__3     -5.140728  0.226277  0.002402 -5.588628 -4.707374                   3\n",
       "a__4     -4.509027  0.275914  0.002813 -5.029828 -3.942147                   4\n",
       "a__5     -5.445921  0.209342  0.001882 -5.865907 -5.041691                   5\n",
       "a__6     -5.325375  0.220651  0.002136 -5.762109 -4.902640                   6\n",
       "a__7     -4.747154  0.262482  0.002561 -5.245723 -4.220982                   7\n",
       "a__8     -4.155331  0.283731  0.002806 -4.713328 -3.593573                   8\n",
       "a__9     -4.710763  0.232247  0.002482 -5.161706 -4.251449                   9\n",
       "a__10    -3.375540  0.384019  0.004058 -4.158962 -2.654199                  10\n",
       "a__11    -3.940269  0.287205  0.003147 -4.499733 -3.379139                  11\n",
       "a__12    -4.552612  0.244881  0.002577 -5.039789 -4.071953                  12\n",
       "sigma_a   0.957495  0.223555  0.002443  0.564371  1.405664             sigma_a"
      ]
     },
     "execution_count": 23,
     "metadata": {},
     "output_type": "execute_result"
    }
   ],
   "source": [
    "coef = pm.summary(trace)\n",
    "coef.loc[:, \"names\"] = [\"intercept\"] +  list(Xfull.columns) + list(range(13)) + ['sigma_a']\n",
    "coef"
   ]
  },
  {
   "cell_type": "markdown",
   "metadata": {},
   "source": [
    "## Time-varying pig movement\n",
    "\n",
    "First fitting Tejon trajectories"
   ]
  },
  {
   "cell_type": "code",
   "execution_count": 165,
   "metadata": {},
   "outputs": [],
   "source": [
    "Xtej_gam = pd.read_csv(\"../results/temp_Xgam_tej.csv\")"
   ]
  },
  {
   "cell_type": "code",
   "execution_count": 175,
   "metadata": {},
   "outputs": [],
   "source": [
    "gam_model = pm.Model()\n",
    "\n",
    "numparams = Xtej_gam.shape[1]\n",
    "\n",
    "batch = 1000\n",
    "X_t = pm.Minibatch(Xtej_gam.values, batch)\n",
    "z_t = pm.Minibatch(z, batch)\n",
    "tau_t = pm.Minibatch(tau, batch)\n",
    "\n",
    "with gam_model:\n",
    "\n",
    "    # Hyper priors for unknown model parameters\n",
    "    alpha = pm.Normal('alpha', mu=0, sd=5)\n",
    "    beta = pm.Normal('beta', mu=0, sd=1, shape=numparams)\n",
    "    \n",
    "    loglam = log(tau_t) + alpha + theano.dot(X_t, beta)\n",
    "\n",
    "    # Likelihood (sampling distribution) of observations\n",
    "    Y_obs = pm.Poisson('Y_obs', mu=np.exp(loglam), observed=z_t, total_size=Xtej_gam.shape[0])"
   ]
  },
  {
   "cell_type": "code",
   "execution_count": 176,
   "metadata": {},
   "outputs": [
    {
     "name": "stderr",
     "output_type": "stream",
     "text": [
      "Average Loss = 7.2948e+09:   0%|          | 24/40000 [00:05<2:32:26,  4.37it/s]\n",
      "Interrupted at 24 [0%]: Average Loss = 7.7018e+09\n"
     ]
    }
   ],
   "source": [
    "# Fit the Tejon GAM model\n",
    "with gam_model:\n",
    "    tej_inference = pm.ADVI()\n",
    "    tej_gam = pm.fit(n=40000, method=\"advi\", \n",
    "                callbacks=[pm.callbacks.CheckParametersConvergence(tolerance=1e-4)])"
   ]
  },
  {
   "cell_type": "code",
   "execution_count": 167,
   "metadata": {},
   "outputs": [
    {
     "data": {
      "text/plain": [
       "(787320, 49)"
      ]
     },
     "execution_count": 167,
     "metadata": {},
     "output_type": "execute_result"
    }
   ],
   "source": [
    "Xtej_gam.shape"
   ]
  },
  {
   "cell_type": "code",
   "execution_count": 177,
   "metadata": {},
   "outputs": [
    {
     "data": {
      "text/plain": [
       "crw_z             0.000000\n",
       "sexM              0.311258\n",
       "hour_2            0.232626\n",
       "hour_3            0.107256\n",
       "hour_4            0.096047\n",
       "hour_5            0.290658\n",
       "month_1           0.294783\n",
       "month_2           0.179124\n",
       "month_4           0.131572\n",
       "month_5           0.284762\n",
       "cover_loc_1      -0.121597\n",
       "cover_loc_2      -0.028810\n",
       "cover_loc_3       0.063239\n",
       "cover_loc_4       0.073328\n",
       "cover_loc_5       0.013840\n",
       "cover_grad_1      0.000000\n",
       "cover_grad_2      0.000000\n",
       "cover_grad_3      0.000000\n",
       "cover_grad_4      0.000000\n",
       "cover_grad_5      0.000000\n",
       "water_loc_1       0.008950\n",
       "water_loc_2      -0.002165\n",
       "water_loc_3       0.012705\n",
       "water_loc_4       0.022857\n",
       "water_loc_5      -0.042347\n",
       "water_grad_2      0.000000\n",
       "water_grad_5      0.000000\n",
       "crop_loc_1        0.121118\n",
       "crop_loc_2        0.073570\n",
       "crop_loc_3       -0.000841\n",
       "crop_loc_4       -0.094952\n",
       "crop_loc_5       -0.098895\n",
       "crop_grad_3       0.000000\n",
       "crop_grad_4       0.000000\n",
       "masting_loc_1     0.054018\n",
       "masting_loc_3     0.022999\n",
       "masting_loc_4    -0.006282\n",
       "masting_loc_5    -0.130814\n",
       "masting_grad_1    0.000000\n",
       "masting_grad_2    0.000000\n",
       "masting_grad_4    0.000000\n",
       "ndvi_loc_2        0.174069\n",
       "ndvi_loc_3        0.114085\n",
       "ndvi_loc_4       -0.068081\n",
       "ndvi_loc_5       -0.212777\n",
       "ndvi_grad_1       0.000000\n",
       "ndvi_grad_2       0.000000\n",
       "ndvi_grad_3       0.000000\n",
       "ndvi_grad_5       0.000000\n",
       "dtype: float64"
      ]
     },
     "execution_count": 177,
     "metadata": {},
     "output_type": "execute_result"
    }
   ],
   "source": [
    "Xtej_gam.mean(axis=0)"
   ]
  },
  {
   "cell_type": "code",
   "execution_count": null,
   "metadata": {},
   "outputs": [],
   "source": []
  }
 ],
 "metadata": {
  "kernelspec": {
   "display_name": "Python 3",
   "language": "python",
   "name": "python3"
  },
  "language_info": {
   "codemirror_mode": {
    "name": "ipython",
    "version": 3
   },
   "file_extension": ".py",
   "mimetype": "text/x-python",
   "name": "python",
   "nbconvert_exporter": "python",
   "pygments_lexer": "ipython3",
   "version": "3.6.4"
  }
 },
 "nbformat": 4,
 "nbformat_minor": 2
}
